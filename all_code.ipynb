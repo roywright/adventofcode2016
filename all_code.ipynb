{
 "cells": [
  {
   "cell_type": "markdown",
   "metadata": {},
   "source": [
    "# Advent of Code 2016\n",
    "http://adventofcode.com/2016"
   ]
  },
  {
   "cell_type": "markdown",
   "metadata": {},
   "source": [
    "## Day 1\n",
    "Puzzle input: `day01.txt`\n",
    "### Part 1"
   ]
  },
  {
   "cell_type": "code",
   "execution_count": 1,
   "metadata": {},
   "outputs": [
    {
     "name": "stdout",
     "output_type": "stream",
     "text": [
      "353\n"
     ]
    }
   ],
   "source": [
    "with open('day01.txt') as f:\n",
    "    turns = [x.replace(' ','') for x in f.readline().strip().split(',')]\n",
    "\n",
    "dx, dy = 0, 1\n",
    "x, y = 0, 0\n",
    "for turn in turns:\n",
    "    if turn[0] == 'L':\n",
    "        dx, dy = -dy, dx\n",
    "    else:\n",
    "        dx, dy = dy, -dx\n",
    "    x += dx * int(turn[1:])\n",
    "    y += dy * int(turn[1:])\n",
    "    \n",
    "print(abs(x) + abs(y))"
   ]
  },
  {
   "cell_type": "markdown",
   "metadata": {},
   "source": [
    "### Part 2"
   ]
  },
  {
   "cell_type": "code",
   "execution_count": 2,
   "metadata": {},
   "outputs": [
    {
     "name": "stdout",
     "output_type": "stream",
     "text": [
      "152\n"
     ]
    }
   ],
   "source": [
    "with open('day01.txt') as f:\n",
    "    turns = [x.replace(' ','') for x in f.readline().strip().split(',')]\n",
    "\n",
    "dx, dy = 0, 1\n",
    "x, y = 0, 0\n",
    "locs = [(x, y)]\n",
    "crossed = False\n",
    "\n",
    "for turn in turns:\n",
    "    if turn[0] == 'L':\n",
    "        dx, dy = -dy, dx\n",
    "    else:\n",
    "        dx, dy = dy, -dx\n",
    "    for step in range(int(turn[1:])):\n",
    "        x += dx \n",
    "        y += dy\n",
    "        if (x, y) in locs:\n",
    "            crossed = True\n",
    "            break\n",
    "        locs.append((x, y))\n",
    "    if crossed:\n",
    "        break\n",
    "    \n",
    "print(abs(x) + abs(y))"
   ]
  },
  {
   "cell_type": "markdown",
   "metadata": {},
   "source": [
    "## Day 2\n",
    "Puzzle input: `day02.txt`\n",
    "### Part 1"
   ]
  },
  {
   "cell_type": "code",
   "execution_count": 3,
   "metadata": {},
   "outputs": [
    {
     "name": "stdout",
     "output_type": "stream",
     "text": [
      "74921\n"
     ]
    }
   ],
   "source": [
    "with open('day02.txt') as f:\n",
    "    turns = [x.strip() for x in f.readlines()]\n",
    "\n",
    "keypad = [\n",
    "    ['1','2','3'],    \n",
    "    ['4','5','6'],\n",
    "    ['7','8','9']\n",
    "]    \n",
    "    \n",
    "x, y = 1, 1\n",
    "keys = []\n",
    "\n",
    "for turn in turns:\n",
    "    for move in turn:\n",
    "        ox, oy = x, y\n",
    "        if move == 'U':\n",
    "            y -= 1\n",
    "        if move == 'D':\n",
    "            y += 1\n",
    "        if move == 'R':\n",
    "            x += 1\n",
    "        if move == 'L':\n",
    "            x -= 1\n",
    "        if x < 0 or x > 2 or y < 0 or y > 2:\n",
    "            x, y = ox, oy\n",
    "    keys.append(keypad[y][x])\n",
    "\n",
    "print(''.join(keys))"
   ]
  },
  {
   "cell_type": "markdown",
   "metadata": {},
   "source": [
    "### Part 2"
   ]
  },
  {
   "cell_type": "code",
   "execution_count": 4,
   "metadata": {},
   "outputs": [
    {
     "name": "stdout",
     "output_type": "stream",
     "text": [
      "A6B35\n"
     ]
    }
   ],
   "source": [
    "keypad = [\n",
    "    [' ',' ',' ',' ',' ',' ',' '],\n",
    "    [' ',' ',' ','1',' ',' ',' '],\n",
    "    [' ',' ','2','3','4',' ',' '],\n",
    "    [' ','5','6','7','8','9',' '],\n",
    "    [' ',' ','A','B','C',' ',' '],\n",
    "    [' ',' ',' ','D',' ',' ',' '],\n",
    "    [' ',' ',' ',' ',' ',' ',' ']    \n",
    "]    \n",
    "    \n",
    "x, y = 1, 3\n",
    "keys = []\n",
    "\n",
    "for turn in turns:\n",
    "    for move in turn:\n",
    "        ox, oy = x, y\n",
    "        if move == 'U':\n",
    "            y -= 1\n",
    "        if move == 'D':\n",
    "            y += 1\n",
    "        if move == 'R':\n",
    "            x += 1\n",
    "        if move == 'L':\n",
    "            x -= 1\n",
    "        if keypad[y][x] == ' ':\n",
    "            x, y = ox, oy\n",
    "    keys.append(keypad[y][x])\n",
    "\n",
    "print(''.join(keys))"
   ]
  },
  {
   "cell_type": "markdown",
   "metadata": {},
   "source": [
    "## Day 3\n",
    "Puzzle input: `day03.txt`\n",
    "### Part 1"
   ]
  },
  {
   "cell_type": "code",
   "execution_count": 5,
   "metadata": {},
   "outputs": [
    {
     "name": "stdout",
     "output_type": "stream",
     "text": [
      "1050\n"
     ]
    }
   ],
   "source": [
    "with open('day03.txt') as f:\n",
    "    lines = [l.strip().split(' ') for l in f.readlines()]\n",
    "\n",
    "possible = 0\n",
    "\n",
    "for line in lines:\n",
    "    sides = sorted([int(x) for x in line if len(x) > 0])\n",
    "    if sides[0] + sides[1] > sides[2]:\n",
    "        possible += 1\n",
    "        \n",
    "print(possible)"
   ]
  },
  {
   "cell_type": "markdown",
   "metadata": {},
   "source": [
    "### Part 2"
   ]
  },
  {
   "cell_type": "code",
   "execution_count": 6,
   "metadata": {},
   "outputs": [
    {
     "name": "stdout",
     "output_type": "stream",
     "text": [
      "1921\n"
     ]
    }
   ],
   "source": [
    "for i in range(len(lines)):\n",
    "    lines[i] = [int(x) for x in lines[i] if len(x) > 0]\n",
    "    \n",
    "newlines = []\n",
    "for col in range(3):\n",
    "    for i in range(0, len(lines), 3):\n",
    "        newlines.append([l[col] for l in lines[i:i+3]])\n",
    "        \n",
    "possible = 0\n",
    "\n",
    "for line in newlines:\n",
    "    sides = sorted(line)\n",
    "    if sides[0] + sides[1] > sides[2]:\n",
    "        possible += 1\n",
    "        \n",
    "print(possible)"
   ]
  },
  {
   "cell_type": "markdown",
   "metadata": {},
   "source": [
    "## Day 4\n",
    "Puzzle input: `day04.txt`\n",
    "### Part 1"
   ]
  },
  {
   "cell_type": "code",
   "execution_count": 7,
   "metadata": {},
   "outputs": [
    {
     "name": "stdout",
     "output_type": "stream",
     "text": [
      "278221\n"
     ]
    }
   ],
   "source": [
    "from numpy import unique\n",
    "\n",
    "with open('day04.txt') as f:\n",
    "    lines = [l.strip(']\\n').split('-') for l in f.readlines()]\n",
    "\n",
    "names = [l[:-1] for l in lines]\n",
    "temp = [l[-1].split('[') for l in lines]\n",
    "sectors = [int(t[0]) for t in temp]\n",
    "checks = [t[1] for t in temp]\n",
    "\n",
    "def checksum(name):\n",
    "    letters, counts = unique(list(''.join(name)), return_counts = True)\n",
    "    lettercounts = sorted(\n",
    "        list(zip(letters, counts)), \n",
    "        key = lambda x: -1000 * x[1] + ord(x[0])\n",
    "    )\n",
    "    return ''.join(x[0] for x in lettercounts[:5])\n",
    "\n",
    "S = 0\n",
    "for name, check, sector in zip(names, checks, sectors):\n",
    "    if checksum(name) == check:\n",
    "        S += sector\n",
    "        \n",
    "print(S)"
   ]
  },
  {
   "cell_type": "markdown",
   "metadata": {},
   "source": [
    "### Part 2"
   ]
  },
  {
   "cell_type": "code",
   "execution_count": 8,
   "metadata": {},
   "outputs": [
    {
     "name": "stdout",
     "output_type": "stream",
     "text": [
      "[('northpole object storage', 267)]\n"
     ]
    }
   ],
   "source": [
    "def decrypt(name, sector):\n",
    "    return ' '.join(\n",
    "        ''.join(\n",
    "            chr((ord(letter) - 97 + sector) % 26 + 97)\n",
    "            for letter in word\n",
    "        )\n",
    "        for word in name\n",
    "    )\n",
    "\n",
    "truenames = [\n",
    "    (decrypt(name, sector), sector)\n",
    "    for name, sector, check in zip(names, sectors, checks)\n",
    "    if checksum(name) == check\n",
    "]\n",
    "\n",
    "print([tn for tn in truenames if 'north' in tn[0]])"
   ]
  },
  {
   "cell_type": "markdown",
   "metadata": {},
   "source": [
    "## Day 5\n",
    "Puzzle input: `ffykfhsq`\n",
    "### Part 1"
   ]
  },
  {
   "cell_type": "code",
   "execution_count": 9,
   "metadata": {},
   "outputs": [
    {
     "name": "stdout",
     "output_type": "stream",
     "text": [
      "c6697b55"
     ]
    }
   ],
   "source": [
    "door = 'ffykfhsq'\n",
    "\n",
    "from hashlib import md5\n",
    "\n",
    "index = 0\n",
    "for c in range(8):\n",
    "    while True:\n",
    "        h = md5((door + str(index)).encode('utf-8')).hexdigest()\n",
    "        index += 1\n",
    "        if h[:5] == '00000':\n",
    "            break\n",
    "    print(h[5], end = '')"
   ]
  },
  {
   "cell_type": "markdown",
   "metadata": {},
   "source": [
    "### Part 2"
   ]
  },
  {
   "cell_type": "code",
   "execution_count": 10,
   "metadata": {},
   "outputs": [
    {
     "name": "stdout",
     "output_type": "stream",
     "text": [
      "8c35d1ab\n"
     ]
    }
   ],
   "source": [
    "from IPython.display import clear_output   # just for \"animation\" :)\n",
    "\n",
    "password = ['_'] * 8\n",
    "valid = [str(x) for x in range(8)]\n",
    "index = 0\n",
    "while '_' in password:\n",
    "    h = md5((door + str(index)).encode('utf-8')).hexdigest()\n",
    "    if h[:5] == '00000' and h[5] in valid and password[int(h[5])] == '_':\n",
    "        password[int(h[5])] = h[6]\n",
    "        clear_output(wait = True)\n",
    "        print(''.join(password))\n",
    "    index += 1"
   ]
  },
  {
   "cell_type": "markdown",
   "metadata": {},
   "source": [
    "## Day 6\n",
    "Puzzle input: `day06.txt`\n",
    "### Part 1"
   ]
  },
  {
   "cell_type": "code",
   "execution_count": 11,
   "metadata": {},
   "outputs": [
    {
     "name": "stdout",
     "output_type": "stream",
     "text": [
      "qoclwvah\n"
     ]
    }
   ],
   "source": [
    "with open('day06.txt') as f:\n",
    "    lines = [l.strip() for l in f.readlines()]\n",
    "\n",
    "def mostcommon(letters):\n",
    "    l, c = unique(letters, return_counts = True)\n",
    "    return sorted(list(zip(l, c)), key = lambda x: -x[1])[0][0]\n",
    "    \n",
    "print(\n",
    "    ''.join(\n",
    "        mostcommon([l[pos] for l in lines]) \n",
    "        for pos in range(8)\n",
    "    )\n",
    ")"
   ]
  },
  {
   "cell_type": "markdown",
   "metadata": {},
   "source": [
    "### Part 2"
   ]
  },
  {
   "cell_type": "code",
   "execution_count": 12,
   "metadata": {},
   "outputs": [
    {
     "name": "stdout",
     "output_type": "stream",
     "text": [
      "ryrgviuv\n"
     ]
    }
   ],
   "source": [
    "def leastcommon(letters):\n",
    "    l, c = unique(letters, return_counts = True)\n",
    "    return sorted(list(zip(l, c)), key = lambda x: x[1])[0][0]\n",
    "    \n",
    "print(\n",
    "    ''.join(\n",
    "        leastcommon([l[pos] for l in lines]) \n",
    "        for pos in range(8)\n",
    "    )\n",
    ")"
   ]
  },
  {
   "cell_type": "markdown",
   "metadata": {},
   "source": [
    "## Day 7\n",
    "Puzzle input: `day07.txt`\n",
    "### Part 1"
   ]
  },
  {
   "cell_type": "code",
   "execution_count": 13,
   "metadata": {
    "scrolled": true
   },
   "outputs": [
    {
     "name": "stdout",
     "output_type": "stream",
     "text": [
      "118\n"
     ]
    }
   ],
   "source": [
    "with open('day07.txt') as f:\n",
    "    lines = [\n",
    "        l.strip().replace('[','-').replace(']','-').split('-') \n",
    "        for l in f.readlines()\n",
    "    ]\n",
    "\n",
    "def mamma_mia(s):\n",
    "    for i in range(len(s)-3):\n",
    "        if s[i] == s[i+3] and s[i+1] == s[i+2] and s[i] != s[i+1]:\n",
    "            return True\n",
    "    return False\n",
    "\n",
    "count = 0   \n",
    "for line in lines:\n",
    "    tls = 0\n",
    "    for part in line[0::2]:\n",
    "        if mamma_mia(part):\n",
    "            tls = 1\n",
    "            break\n",
    "    for part in line[1::2]:\n",
    "        if mamma_mia(part):\n",
    "            tls = 0\n",
    "            break\n",
    "    count += tls\n",
    "    \n",
    "print(count)"
   ]
  },
  {
   "cell_type": "markdown",
   "metadata": {},
   "source": [
    "### Part 2"
   ]
  },
  {
   "cell_type": "code",
   "execution_count": 14,
   "metadata": {
    "scrolled": false
   },
   "outputs": [
    {
     "name": "stdout",
     "output_type": "stream",
     "text": [
      "260\n"
     ]
    }
   ],
   "source": [
    "def mama_mia(s):\n",
    "    abas = []\n",
    "    for i in range(len(s)-2):\n",
    "        if s[i] == s[i+2] and s[i] != s[i+1]:\n",
    "            abas.append((s[i], s[i+1]))\n",
    "    return abas\n",
    "\n",
    "count = 0\n",
    "for line in lines:\n",
    "    outers = sum([mama_mia(part) for part in line[0::2]], [])\n",
    "    inners = sum([mama_mia(part) for part in line[1::2]], [])\n",
    "    if len(set(inners) & set(o[::-1] for o in outers)) > 0:\n",
    "        count += 1\n",
    "    \n",
    "print(count)"
   ]
  },
  {
   "cell_type": "markdown",
   "metadata": {},
   "source": [
    "## Day 8\n",
    "Puzzle input: `day08.txt`\n",
    "### Part 1"
   ]
  },
  {
   "cell_type": "code",
   "execution_count": 15,
   "metadata": {
    "scrolled": true
   },
   "outputs": [
    {
     "name": "stdout",
     "output_type": "stream",
     "text": [
      "110\n"
     ]
    }
   ],
   "source": [
    "from copy import deepcopy\n",
    "\n",
    "with open('day08.txt') as f:\n",
    "    lines = [l.strip() for l in f.readlines()]\n",
    "\n",
    "screen = []\n",
    "on, off = '█', ' '\n",
    "\n",
    "for _ in range(6):\n",
    "    screen.append([off] * 50)\n",
    "\n",
    "def process(s):\n",
    "    A, B = s.split('=')[-1].replace('x',' by ').split(' by ')\n",
    "    return int(A), int(B)\n",
    "    \n",
    "def rect(s):\n",
    "    A, B = process(s)\n",
    "    for i in range(B):\n",
    "        for j in range(A):\n",
    "            screen[i][j] = on\n",
    "\n",
    "def rotaterow(s):\n",
    "    A, B = process(s)    \n",
    "    screen[A] = screen[A][-B:] + screen[A][:-B]\n",
    "\n",
    "def rotatecolumn(s):    \n",
    "    A, B = process(s)\n",
    "    oldscreen = deepcopy(screen)\n",
    "    n = len(screen)\n",
    "    for y in range(n):\n",
    "        screen[y][A] = oldscreen[(y - B) % n][A]\n",
    "\n",
    "for l in lines:\n",
    "    command = l.replace('ate ', 'ate').split(' ', maxsplit = 1)\n",
    "    exec(\"%s('%s')\" % tuple(command))\n",
    "\n",
    "print(len([c for c in sum(screen, []) if c == on]))    "
   ]
  },
  {
   "cell_type": "markdown",
   "metadata": {},
   "source": [
    "### Part 2"
   ]
  },
  {
   "cell_type": "code",
   "execution_count": 16,
   "metadata": {},
   "outputs": [
    {
     "name": "stdout",
     "output_type": "stream",
     "text": [
      "████   ██ █  █ ███  █  █  ██  ███  █    █   █  ██ \n",
      "   █    █ █  █ █  █ █ █  █  █ █  █ █    █   █   █ \n",
      "  █     █ ████ █  █ ██   █    █  █ █     █ █    █ \n",
      " █      █ █  █ ███  █ █  █    ███  █      █     █ \n",
      "█    █  █ █  █ █ █  █ █  █  █ █    █      █  █  █ \n",
      "████  ██  █  █ █  █ █  █  ██  █    ████   █   ██  \n"
     ]
    }
   ],
   "source": [
    "for l in screen:\n",
    "    print(''.join(l))    "
   ]
  },
  {
   "cell_type": "markdown",
   "metadata": {},
   "source": [
    "## Day 9\n",
    "Puzzle input: `day09.txt`\n",
    "### Part 1"
   ]
  },
  {
   "cell_type": "code",
   "execution_count": 17,
   "metadata": {
    "scrolled": true
   },
   "outputs": [
    {
     "name": "stdout",
     "output_type": "stream",
     "text": [
      "102239\n"
     ]
    }
   ],
   "source": [
    "with open('day09.txt') as f:\n",
    "    string = f.read().strip()\n",
    "\n",
    "dstring = ''\n",
    "i = 0\n",
    "\n",
    "while i < len(string):\n",
    "    if string[i] != '(':\n",
    "        dstring += string[i]\n",
    "        i += 1\n",
    "    else:\n",
    "        marker, rest = string[i+1:].split(')', maxsplit = 1)\n",
    "        i += len(marker) + 2\n",
    "        chars, reps = marker.split('x')\n",
    "        chars, reps = int(chars), int(reps)\n",
    "        dstring += rest[:chars] * reps\n",
    "        i += chars\n",
    "\n",
    "print(len(dstring))"
   ]
  },
  {
   "cell_type": "markdown",
   "metadata": {},
   "source": [
    "### Part 2"
   ]
  },
  {
   "cell_type": "code",
   "execution_count": 18,
   "metadata": {
    "scrolled": true
   },
   "outputs": [
    {
     "name": "stdout",
     "output_type": "stream",
     "text": [
      "10780403063\n"
     ]
    }
   ],
   "source": [
    "def charcount(s):\n",
    "    if '(' in s:\n",
    "        s = s.split('(', maxsplit = 1)\n",
    "        count = len(s[0])\n",
    "        marker, rest = s[1].split(')', maxsplit = 1)\n",
    "        chars, reps = marker.split('x')\n",
    "        chars, reps = int(chars), int(reps)\n",
    "        count += reps * charcount(rest[:chars]) + charcount(rest[chars:])\n",
    "        return count\n",
    "    else:\n",
    "        return len(s)\n",
    "\n",
    "print(charcount(string))"
   ]
  },
  {
   "cell_type": "markdown",
   "metadata": {},
   "source": [
    "## Day 10\n",
    "Puzzle input: `day10.txt`\n",
    "### Part 1"
   ]
  },
  {
   "cell_type": "code",
   "execution_count": 19,
   "metadata": {
    "scrolled": true
   },
   "outputs": [
    {
     "name": "stdout",
     "output_type": "stream",
     "text": [
      "bot 113\n"
     ]
    }
   ],
   "source": [
    "from collections import defaultdict\n",
    "\n",
    "with open('day10.txt') as f:\n",
    "    lines = [l.strip() for l in f.readlines()]\n",
    "\n",
    "bins = defaultdict(list)\n",
    "rules = defaultdict(list)\n",
    "    \n",
    "def action():\n",
    "    actors = [x[0] for x in list(bins.items()) if len(x[1]) == 2]\n",
    "    for a in actors:\n",
    "        try:\n",
    "            if min(bins[a]) == 17 and max(bins[a]) == 61:\n",
    "                print(a)\n",
    "            bins[rules[a][0]].append(min(bins[a]))\n",
    "            bins[rules[a][1]].append(max(bins[a]))\n",
    "            bins[a] = []\n",
    "            return True\n",
    "        except:\n",
    "            return False\n",
    "    return False\n",
    "    \n",
    "for line in lines:\n",
    "    line = line.split(' ')\n",
    "    if line[0] == 'value':\n",
    "        bins[' '.join(line[-2:])].append(int(line[1]))\n",
    "    else:\n",
    "        rules[' '.join(line[:2])] = [\n",
    "            ' '.join(line[5:7]),\n",
    "            ' '.join(line[10:12])\n",
    "        ]\n",
    "    act = True\n",
    "    while act:\n",
    "        act = action()"
   ]
  },
  {
   "cell_type": "markdown",
   "metadata": {},
   "source": [
    "### Part 2"
   ]
  },
  {
   "cell_type": "code",
   "execution_count": 20,
   "metadata": {},
   "outputs": [
    {
     "name": "stdout",
     "output_type": "stream",
     "text": [
      "12803\n"
     ]
    }
   ],
   "source": [
    "print(bins['output 0'][0] * bins['output 1'][0] * bins['output 2'][0])"
   ]
  },
  {
   "cell_type": "markdown",
   "metadata": {},
   "source": [
    "## Day 11\n",
    "Puzzle input: `day11.txt`\n",
    "### Part 1"
   ]
  },
  {
   "cell_type": "code",
   "execution_count": 21,
   "metadata": {
    "scrolled": true
   },
   "outputs": [],
   "source": [
    "#################################################\n",
    "##### I'll come back to this one later. 😲 ######\n",
    "#################################################"
   ]
  },
  {
   "cell_type": "markdown",
   "metadata": {},
   "source": [
    "### Part 2"
   ]
  },
  {
   "cell_type": "code",
   "execution_count": 22,
   "metadata": {
    "scrolled": true
   },
   "outputs": [],
   "source": [
    "##########################################################################\n",
    "##### (Probably end up taking an approach similar to Day 13 below.) ######\n",
    "##########################################################################"
   ]
  },
  {
   "cell_type": "markdown",
   "metadata": {},
   "source": [
    "## Day 12\n",
    "Puzzle input: `day12.txt`\n",
    "### Part 1"
   ]
  },
  {
   "cell_type": "code",
   "execution_count": 23,
   "metadata": {
    "scrolled": true
   },
   "outputs": [
    {
     "name": "stdout",
     "output_type": "stream",
     "text": [
      "318117\n"
     ]
    }
   ],
   "source": [
    "with open('day12.txt') as f:\n",
    "    lines = [l.strip().split() for l in f.readlines()]\n",
    "    \n",
    "var = defaultdict(int)\n",
    "\n",
    "def val(x):\n",
    "    try:\n",
    "        return int(x)\n",
    "    except:\n",
    "        return var[x]\n",
    "\n",
    "i = 0\n",
    "while i < len(lines):\n",
    "    l = lines[i]\n",
    "    if l[0] == 'cpy':\n",
    "        var[l[2]] = val(l[1])\n",
    "    if l[0] == 'inc':\n",
    "        var[l[1]] += 1\n",
    "    if l[0] == 'dec':\n",
    "        var[l[1]] -= 1\n",
    "    if l[0] == 'jnz' and val(l[1]) != 0:\n",
    "        i += val(l[2])\n",
    "    else:\n",
    "        i += 1\n",
    "        \n",
    "print(var['a'])"
   ]
  },
  {
   "cell_type": "markdown",
   "metadata": {},
   "source": [
    "### Part 2"
   ]
  },
  {
   "cell_type": "code",
   "execution_count": 24,
   "metadata": {
    "scrolled": true
   },
   "outputs": [
    {
     "name": "stdout",
     "output_type": "stream",
     "text": [
      "9227771\n"
     ]
    }
   ],
   "source": [
    "var = defaultdict(int)\n",
    "var['c'] = 1\n",
    "\n",
    "i = 0\n",
    "while i < len(lines):\n",
    "    l = lines[i]\n",
    "    if l[0] == 'cpy':\n",
    "        var[l[2]] = val(l[1])\n",
    "    if l[0] == 'inc':\n",
    "        var[l[1]] += 1\n",
    "    if l[0] == 'dec':\n",
    "        var[l[1]] -= 1\n",
    "    i += val(l[2]) if l[0] == 'jnz' and val(l[1]) != 0 else 1\n",
    "        \n",
    "print(var['a'])"
   ]
  },
  {
   "cell_type": "markdown",
   "metadata": {},
   "source": [
    "## Day 13\n",
    "Puzzle input: `1364`\n",
    "### Part 1"
   ]
  },
  {
   "cell_type": "code",
   "execution_count": 25,
   "metadata": {},
   "outputs": [
    {
     "name": "stdout",
     "output_type": "stream",
     "text": [
      "86\n"
     ]
    }
   ],
   "source": [
    "number = 1364\n",
    "goal = 31, 39\n",
    "\n",
    "def iswall(x,y):\n",
    "    return bin(x*x + 3*x + 2*x*y + y + y*y + number)[2:].count('1') % 2 == 1\n",
    "\n",
    "def adjacent(x,y):\n",
    "    adj = [(x+1,y),(x-1,y),(x,y+1),(x,y-1)]\n",
    "    adj = [\n",
    "        p for p in adj \n",
    "        if (not iswall(p[0], p[1]))\n",
    "        and p[0] >= 0 and p[1] >= 0\n",
    "    ]\n",
    "    return adj\n",
    "\n",
    "pts  = [(1,1)]\n",
    "adjs = [adjacent(1,1)]\n",
    "bestpath = 99999999999\n",
    "\n",
    "while len(pts) > 0 and len(adjs[-1]) > 0:\n",
    "    pts.append(adjs[-1].pop())\n",
    "    adjs.append([\n",
    "        p for p in adjacent(pts[-1][0], pts[-1][1])\n",
    "        if p not in pts\n",
    "    ])\n",
    "    if pts[-1] == goal and len(pts) - 1 < bestpath:\n",
    "        bestpath = len(pts) - 1\n",
    "    while (\n",
    "        len(adjs[-1]) == 0 or pts[-1] == goal \n",
    "        or pts[-1][0] > 1.25 * goal[0] or pts[-1][1] > 1.25 * goal[1]\n",
    "    ):\n",
    "        adjs.pop()\n",
    "        pts.pop()\n",
    "        if len(pts) == 1:\n",
    "            break\n",
    "\n",
    "print(bestpath)"
   ]
  },
  {
   "cell_type": "markdown",
   "metadata": {},
   "source": [
    "### Part 2"
   ]
  },
  {
   "cell_type": "code",
   "execution_count": 26,
   "metadata": {},
   "outputs": [
    {
     "name": "stdout",
     "output_type": "stream",
     "text": [
      "127\n"
     ]
    }
   ],
   "source": [
    "pts  = [(1,1)]\n",
    "adjs = [adjacent(1,1)]\n",
    "allpts = [(1,1)]\n",
    "\n",
    "while 0 < len(pts) <= 50 and len(adjs[-1]) > 0:\n",
    "    pts.append(adjs[-1].pop())\n",
    "    allpts.append(pts[-1])\n",
    "    adjs.append([\n",
    "        p for p in adjacent(pts[-1][0], pts[-1][1])\n",
    "        if p not in pts\n",
    "    ])\n",
    "    while len(adjs[-1]) == 0 or len(pts) > 50:\n",
    "        adjs.pop()\n",
    "        pts.pop()\n",
    "        if len(pts) == 1:\n",
    "            break\n",
    "\n",
    "print(len(set(allpts)))"
   ]
  },
  {
   "cell_type": "markdown",
   "metadata": {},
   "source": [
    "## Day 14\n",
    "Puzzle input: `yjdafjpo`\n",
    "### Part 1"
   ]
  },
  {
   "cell_type": "code",
   "execution_count": 27,
   "metadata": {
    "scrolled": true
   },
   "outputs": [
    {
     "name": "stdout",
     "output_type": "stream",
     "text": [
      "25427\n"
     ]
    }
   ],
   "source": [
    "salt = 'yjdafjpo'\n",
    "\n",
    "from hashlib import md5\n",
    "\n",
    "def rep(s, n):\n",
    "    for i in range(len(s) - n + 1):\n",
    "        if len(set(s[i:i+n])) == 1:\n",
    "            return s[i]\n",
    "    return None\n",
    "\n",
    "hashes = []\n",
    "threes = []\n",
    "fives = []\n",
    "keys = []\n",
    "\n",
    "index = 0\n",
    "while len(keys) < 64:\n",
    "    h = md5((salt + str(index)).encode('utf-8')).hexdigest()\n",
    "    hashes.append(h)\n",
    "    five = rep(h, 5)\n",
    "    lookback = max([0, index - 1000])\n",
    "    if five is not None and five in threes[lookback:]:\n",
    "        keys = keys + [\n",
    "            pair[0] \n",
    "            for pair in zip(hashes[lookback:], threes[lookback:]) \n",
    "            if pair[1] == five\n",
    "        ]\n",
    "    fives.append(five)     \n",
    "    threes.append(rep(h, 3)) \n",
    "    keys = list(set(keys))\n",
    "    index += 1\n",
    "    \n",
    "print(sorted(hashes.index(k) for k in keys)[63])    "
   ]
  },
  {
   "cell_type": "markdown",
   "metadata": {},
   "source": [
    "### Part 2"
   ]
  },
  {
   "cell_type": "code",
   "execution_count": 28,
   "metadata": {
    "scrolled": true
   },
   "outputs": [
    {
     "name": "stdout",
     "output_type": "stream",
     "text": [
      "22045\n"
     ]
    }
   ],
   "source": [
    "def md5_stretch(x):\n",
    "    for _ in range(2017):\n",
    "        x = md5(x.encode('utf-8')).hexdigest()\n",
    "    return x\n",
    "\n",
    "hashes = []\n",
    "threes = []\n",
    "fives = []\n",
    "keys = []\n",
    "\n",
    "index = 0\n",
    "while len(keys) < 64:\n",
    "    h = md5_stretch(salt + str(index))\n",
    "    hashes.append(h)\n",
    "    five = rep(h, 5)\n",
    "    lookback = max([0, index - 1000])\n",
    "    if five is not None and five in threes[lookback:]:\n",
    "        keys = keys + [\n",
    "            pair[0] \n",
    "            for pair in zip(hashes[lookback:], threes[lookback:]) \n",
    "            if pair[1] == five\n",
    "        ]\n",
    "    fives.append(five)     \n",
    "    threes.append(rep(h, 3)) \n",
    "    keys = list(set(keys))\n",
    "    index += 1\n",
    "    \n",
    "print(sorted(hashes.index(k) for k in keys)[63])    "
   ]
  },
  {
   "cell_type": "markdown",
   "metadata": {},
   "source": [
    "## Day 15\n",
    "Puzzle input: \n",
    "\n",
    "`Disc #1 has 13 positions; at time=0, it is at position 11.\n",
    " Disc #2 has 5 positions; at time=0, it is at position 0.\n",
    " Disc #3 has 17 positions; at time=0, it is at position 11.\n",
    " Disc #4 has 3 positions; at time=0, it is at position 0.\n",
    " Disc #5 has 7 positions; at time=0, it is at position 2.\n",
    " Disc #6 has 19 positions; at time=0, it is at position 17.`\n",
    "\n",
    "### Part 1"
   ]
  },
  {
   "cell_type": "code",
   "execution_count": 29,
   "metadata": {
    "scrolled": true
   },
   "outputs": [
    {
     "name": "stdout",
     "output_type": "stream",
     "text": [
      "122318\n"
     ]
    }
   ],
   "source": [
    "sizes = [13,5,17,3,7,19]\n",
    "discs = [11,0,11,0,2,17]\n",
    "t = 0\n",
    "while discs != [d % s for d, s in zip([-1,-2,-3,-4,-5,-6], sizes)]:\n",
    "    t += 1\n",
    "    discs = [(d + 1) % s for d, s in zip(discs, sizes)]\n",
    "print(t)"
   ]
  },
  {
   "cell_type": "markdown",
   "metadata": {},
   "source": [
    "### Part 2"
   ]
  },
  {
   "cell_type": "code",
   "execution_count": 30,
   "metadata": {
    "scrolled": true
   },
   "outputs": [
    {
     "name": "stdout",
     "output_type": "stream",
     "text": [
      "3208583\n"
     ]
    }
   ],
   "source": [
    "sizes = [13,5,17,3,7,19,11]\n",
    "discs = [11,0,11,0,2,17,0]\n",
    "t = 0\n",
    "while discs != [d % s for d, s in zip([-1,-2,-3,-4,-5,-6,-7], sizes)]:\n",
    "    t += 1\n",
    "    discs = [(d + 1) % s for d, s in zip(discs, sizes)]\n",
    "print(t)"
   ]
  },
  {
   "cell_type": "markdown",
   "metadata": {},
   "source": [
    "## Day 16\n",
    "Puzzle input: `00111101111101000`\n",
    "### Part 1"
   ]
  },
  {
   "cell_type": "code",
   "execution_count": 31,
   "metadata": {},
   "outputs": [
    {
     "name": "stdout",
     "output_type": "stream",
     "text": [
      "10011010010010010\n"
     ]
    }
   ],
   "source": [
    "state = '00111101111101000'\n",
    "goal = 272\n",
    "\n",
    "def dragon(x):\n",
    "    return x + '0' + x[::-1].replace('0',' ').replace('1','0').replace(' ','1')\n",
    "        \n",
    "def checksum(x):\n",
    "    cs = ''\n",
    "    for i in range(0, len(x)-1, 2): cs += '1' if x[i] == x[i+1] else '0'\n",
    "    while len(cs) % 2 == 0:\n",
    "        cs_new = ''\n",
    "        for i in range(0, len(cs)-1, 2): \n",
    "            cs_new += '1' if cs[i] == cs[i+1] else '0'\n",
    "        cs = cs_new\n",
    "    return cs\n",
    "\n",
    "while len(state) < goal:\n",
    "    state = dragon(state)\n",
    "\n",
    "print(checksum(state[:goal]))"
   ]
  },
  {
   "cell_type": "markdown",
   "metadata": {},
   "source": [
    "### Part 2"
   ]
  },
  {
   "cell_type": "code",
   "execution_count": 32,
   "metadata": {},
   "outputs": [
    {
     "name": "stdout",
     "output_type": "stream",
     "text": [
      "10101011110100011\n"
     ]
    }
   ],
   "source": [
    "state = '00111101111101000'\n",
    "goal = 35651584\n",
    "\n",
    "while len(state) < goal:\n",
    "    state = dragon(state)\n",
    "\n",
    "print(checksum(state[:goal]))"
   ]
  },
  {
   "cell_type": "markdown",
   "metadata": {},
   "source": [
    "## Day 17\n",
    "Puzzle input: `njfxhljp`\n",
    "### Part 1"
   ]
  },
  {
   "cell_type": "code",
   "execution_count": 33,
   "metadata": {
    "scrolled": true
   },
   "outputs": [
    {
     "name": "stdout",
     "output_type": "stream",
     "text": [
      "DURLDRRDRD\n"
     ]
    }
   ],
   "source": [
    "passcode = 'njfxhljp'\n",
    "\n",
    "def adjacent(x,y,path):\n",
    "    adj = [ [(x,y-1),'U'], [(x,y+1),'D'], [(x-1,y),'L'], [(x+1,y),'R'] ]\n",
    "    h = md5((passcode + path).encode('utf-8')).hexdigest()[:4]\n",
    "    adj = [z[1] for z in zip(h, adj) if z[0] in 'bcdef']\n",
    "    return [p for p in adj if 1 <= p[0][0] <= 4 and 1 <= p[0][1] <= 4]\n",
    "\n",
    "goal = 4, 4\n",
    "pts  = [(1,1)]\n",
    "path = ''\n",
    "adjs = [adjacent(1,1,'')]\n",
    "bestpath = ''\n",
    "\n",
    "while len(pts) > 0 and len(adjs[-1]) > 0:\n",
    "    temp = adjs[-1].pop()\n",
    "    pts.append(temp[0])\n",
    "    path = path + temp[1]\n",
    "    adjs.append(adjacent(pts[-1][0], pts[-1][1], path))\n",
    "    if pts[-1] == goal and (bestpath == '' or len(path) < len(bestpath)):\n",
    "        bestpath = path\n",
    "    while len(adjs[-1]) == 0 or len(path) >= len(bestpath) > 0:\n",
    "        adjs.pop()\n",
    "        pts.pop()\n",
    "        path = path[:-1]\n",
    "        if len(pts) == 1:\n",
    "            break\n",
    "\n",
    "print(bestpath)"
   ]
  },
  {
   "cell_type": "markdown",
   "metadata": {},
   "source": [
    "### Part 2"
   ]
  },
  {
   "cell_type": "code",
   "execution_count": 34,
   "metadata": {
    "scrolled": true
   },
   "outputs": [
    {
     "name": "stdout",
     "output_type": "stream",
     "text": [
      "650\n"
     ]
    }
   ],
   "source": [
    "pts  = [(1,1)]\n",
    "path = ''\n",
    "adjs = [adjacent(1,1,path)]\n",
    "bestpath = ''\n",
    "\n",
    "while len(pts) > 0 and len(adjs[-1]) > 0:\n",
    "    temp = adjs[-1].pop()\n",
    "    pts.append(temp[0])\n",
    "    path = path + temp[1]\n",
    "    adjs.append(adjacent(pts[-1][0], pts[-1][1], path))\n",
    "    if pts[-1] == goal and (len(path) > len(bestpath)):\n",
    "            bestpath = path\n",
    "    while len(adjs[-1]) == 0 or pts[-1] == goal:\n",
    "        adjs.pop()\n",
    "        pts.pop()\n",
    "        path = path[:-1]\n",
    "        if len(pts) == 1:\n",
    "            break\n",
    "\n",
    "print(len(bestpath))"
   ]
  },
  {
   "cell_type": "markdown",
   "metadata": {},
   "source": [
    "## Day 18\n",
    "Puzzle input: `day18.txt`\n",
    "### Part 1"
   ]
  },
  {
   "cell_type": "code",
   "execution_count": 35,
   "metadata": {
    "scrolled": true
   },
   "outputs": [
    {
     "data": {
      "text/plain": [
       "1982"
      ]
     },
     "execution_count": 35,
     "metadata": {},
     "output_type": "execute_result"
    }
   ],
   "source": [
    "with open('day18.txt') as f:\n",
    "    line = '.' + f.readline().strip() + '.'\n",
    "\n",
    "rows = [line]\n",
    "for i in range(1,40):\n",
    "    line = '.' + ''.join([\n",
    "        '^' if line[j-1] != line[j+1]\n",
    "        else '.'\n",
    "        for j in range(1, len(line) - 1)\n",
    "    ]) + '.'\n",
    "    rows.append(line)\n",
    "\n",
    "sum(r.count('.') for r in rows) - 2*len(rows)"
   ]
  },
  {
   "cell_type": "markdown",
   "metadata": {},
   "source": [
    "### Part 2"
   ]
  },
  {
   "cell_type": "code",
   "execution_count": 36,
   "metadata": {},
   "outputs": [
    {
     "data": {
      "text/plain": [
       "20005203"
      ]
     },
     "execution_count": 36,
     "metadata": {},
     "output_type": "execute_result"
    }
   ],
   "source": [
    "with open('day18.txt') as f:\n",
    "    line = '.' + f.readline().strip() + '.'\n",
    "\n",
    "rows = [line]\n",
    "for i in range(1,400000):\n",
    "    line = '.' + ''.join([\n",
    "        '^' if line[j-1] != line[j+1]\n",
    "        else '.'\n",
    "        for j in range(1, len(line) - 1)\n",
    "    ]) + '.'\n",
    "    rows.append(line)\n",
    "\n",
    "sum(r.count('.') for r in rows) - 2*len(rows)"
   ]
  }
 ],
 "metadata": {
  "kernelspec": {
   "display_name": "Python 3",
   "language": "python",
   "name": "python3"
  },
  "language_info": {
   "codemirror_mode": {
    "name": "ipython",
    "version": 3
   },
   "file_extension": ".py",
   "mimetype": "text/x-python",
   "name": "python",
   "nbconvert_exporter": "python",
   "pygments_lexer": "ipython3",
   "version": "3.6.3"
  }
 },
 "nbformat": 4,
 "nbformat_minor": 2
}

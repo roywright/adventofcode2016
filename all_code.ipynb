{
 "cells": [
  {
   "cell_type": "markdown",
   "metadata": {},
   "source": [
    "# Advent of Code 2016\n",
    "http://adventofcode.com/2016"
   ]
  },
  {
   "cell_type": "markdown",
   "metadata": {},
   "source": [
    "## Day 1\n",
    "Puzzle input: `day01.txt`\n",
    "### Part 1"
   ]
  },
  {
   "cell_type": "code",
   "execution_count": 1,
   "metadata": {},
   "outputs": [
    {
     "name": "stdout",
     "output_type": "stream",
     "text": [
      "353\n"
     ]
    }
   ],
   "source": [
    "with open('day01.txt') as f:\n",
    "    turns = [x.replace(' ','') for x in f.readline().strip().split(',')]\n",
    "\n",
    "dx, dy = 0, 1\n",
    "x, y = 0, 0\n",
    "for turn in turns:\n",
    "    if turn[0] == 'L':\n",
    "        dx, dy = -dy, dx\n",
    "    else:\n",
    "        dx, dy = dy, -dx\n",
    "    x += dx * int(turn[1:])\n",
    "    y += dy * int(turn[1:])\n",
    "    \n",
    "print(abs(x) + abs(y))"
   ]
  },
  {
   "cell_type": "markdown",
   "metadata": {},
   "source": [
    "### Part 2"
   ]
  },
  {
   "cell_type": "code",
   "execution_count": 2,
   "metadata": {},
   "outputs": [
    {
     "name": "stdout",
     "output_type": "stream",
     "text": [
      "152\n"
     ]
    }
   ],
   "source": [
    "with open('day01.txt') as f:\n",
    "    turns = [x.replace(' ','') for x in f.readline().strip().split(',')]\n",
    "\n",
    "dx, dy = 0, 1\n",
    "x, y = 0, 0\n",
    "locs = [(x, y)]\n",
    "crossed = False\n",
    "\n",
    "for turn in turns:\n",
    "    if turn[0] == 'L':\n",
    "        dx, dy = -dy, dx\n",
    "    else:\n",
    "        dx, dy = dy, -dx\n",
    "    for step in range(int(turn[1:])):\n",
    "        x += dx \n",
    "        y += dy\n",
    "        if (x, y) in locs:\n",
    "            crossed = True\n",
    "            break\n",
    "        locs.append((x, y))\n",
    "    if crossed:\n",
    "        break\n",
    "    \n",
    "print(abs(x) + abs(y))"
   ]
  },
  {
   "cell_type": "markdown",
   "metadata": {},
   "source": [
    "## Day 2\n",
    "Puzzle input: `day02.txt`\n",
    "### Part 1"
   ]
  },
  {
   "cell_type": "code",
   "execution_count": 3,
   "metadata": {},
   "outputs": [
    {
     "name": "stdout",
     "output_type": "stream",
     "text": [
      "74921\n"
     ]
    }
   ],
   "source": [
    "with open('day02.txt') as f:\n",
    "    turns = [x.strip() for x in f.readlines()]\n",
    "\n",
    "keypad = [\n",
    "    ['1','2','3'],    \n",
    "    ['4','5','6'],\n",
    "    ['7','8','9']\n",
    "]    \n",
    "    \n",
    "x, y = 1, 1\n",
    "keys = []\n",
    "\n",
    "for turn in turns:\n",
    "    for move in turn:\n",
    "        ox, oy = x, y\n",
    "        if move == 'U':\n",
    "            y -= 1\n",
    "        if move == 'D':\n",
    "            y += 1\n",
    "        if move == 'R':\n",
    "            x += 1\n",
    "        if move == 'L':\n",
    "            x -= 1\n",
    "        if x < 0 or x > 2 or y < 0 or y > 2:\n",
    "            x, y = ox, oy\n",
    "    keys.append(keypad[y][x])\n",
    "\n",
    "print(''.join(keys))"
   ]
  },
  {
   "cell_type": "markdown",
   "metadata": {},
   "source": [
    "### Part 2"
   ]
  },
  {
   "cell_type": "code",
   "execution_count": 4,
   "metadata": {},
   "outputs": [
    {
     "name": "stdout",
     "output_type": "stream",
     "text": [
      "A6B35\n"
     ]
    }
   ],
   "source": [
    "keypad = [\n",
    "    [' ',' ',' ',' ',' ',' ',' '],\n",
    "    [' ',' ',' ','1',' ',' ',' '],\n",
    "    [' ',' ','2','3','4',' ',' '],\n",
    "    [' ','5','6','7','8','9',' '],\n",
    "    [' ',' ','A','B','C',' ',' '],\n",
    "    [' ',' ',' ','D',' ',' ',' '],\n",
    "    [' ',' ',' ',' ',' ',' ',' ']    \n",
    "]    \n",
    "    \n",
    "x, y = 1, 3\n",
    "keys = []\n",
    "\n",
    "for turn in turns:\n",
    "    for move in turn:\n",
    "        ox, oy = x, y\n",
    "        if move == 'U':\n",
    "            y -= 1\n",
    "        if move == 'D':\n",
    "            y += 1\n",
    "        if move == 'R':\n",
    "            x += 1\n",
    "        if move == 'L':\n",
    "            x -= 1\n",
    "        if keypad[y][x] == ' ':\n",
    "            x, y = ox, oy\n",
    "    keys.append(keypad[y][x])\n",
    "\n",
    "print(''.join(keys))"
   ]
  },
  {
   "cell_type": "markdown",
   "metadata": {},
   "source": [
    "## Day 3\n",
    "Puzzle input: `day03.txt`\n",
    "### Part 1"
   ]
  },
  {
   "cell_type": "code",
   "execution_count": 5,
   "metadata": {},
   "outputs": [
    {
     "name": "stdout",
     "output_type": "stream",
     "text": [
      "1050\n"
     ]
    }
   ],
   "source": [
    "with open('day03.txt') as f:\n",
    "    lines = [l.strip().split(' ') for l in f.readlines()]\n",
    "\n",
    "possible = 0\n",
    "\n",
    "for line in lines:\n",
    "    sides = sorted([int(x) for x in line if len(x) > 0])\n",
    "    if sides[0] + sides[1] > sides[2]:\n",
    "        possible += 1\n",
    "        \n",
    "print(possible)"
   ]
  },
  {
   "cell_type": "markdown",
   "metadata": {},
   "source": [
    "### Part 2"
   ]
  },
  {
   "cell_type": "code",
   "execution_count": 6,
   "metadata": {},
   "outputs": [
    {
     "name": "stdout",
     "output_type": "stream",
     "text": [
      "1921\n"
     ]
    }
   ],
   "source": [
    "for i in range(len(lines)):\n",
    "    lines[i] = [int(x) for x in lines[i] if len(x) > 0]\n",
    "    \n",
    "newlines = []\n",
    "for col in range(3):\n",
    "    for i in range(0, len(lines), 3):\n",
    "        newlines.append([l[col] for l in lines[i:i+3]])\n",
    "        \n",
    "possible = 0\n",
    "\n",
    "for line in newlines:\n",
    "    sides = sorted(line)\n",
    "    if sides[0] + sides[1] > sides[2]:\n",
    "        possible += 1\n",
    "        \n",
    "print(possible)"
   ]
  }
 ],
 "metadata": {
  "kernelspec": {
   "display_name": "Python 3",
   "language": "python",
   "name": "python3"
  },
  "language_info": {
   "codemirror_mode": {
    "name": "ipython",
    "version": 3
   },
   "file_extension": ".py",
   "mimetype": "text/x-python",
   "name": "python",
   "nbconvert_exporter": "python",
   "pygments_lexer": "ipython3",
   "version": "3.6.3"
  }
 },
 "nbformat": 4,
 "nbformat_minor": 2
}

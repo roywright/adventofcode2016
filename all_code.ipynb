{
 "cells": [
  {
   "cell_type": "markdown",
   "metadata": {},
   "source": [
    "# Advent of Code 2016\n",
    "http://adventofcode.com/2016"
   ]
  },
  {
   "cell_type": "markdown",
   "metadata": {},
   "source": [
    "## Day 1\n",
    "Puzzle input: `day01.txt`\n",
    "### Part 1"
   ]
  },
  {
   "cell_type": "code",
   "execution_count": 1,
   "metadata": {},
   "outputs": [
    {
     "name": "stdout",
     "output_type": "stream",
     "text": [
      "353\n"
     ]
    }
   ],
   "source": [
    "with open('day01.txt') as f:\n",
    "    turns = [x.replace(' ','') for x in f.readline().strip().split(',')]\n",
    "\n",
    "dx, dy = 0, 1\n",
    "x, y = 0, 0\n",
    "for turn in turns:\n",
    "    if turn[0] == 'L':\n",
    "        dx, dy = -dy, dx\n",
    "    else:\n",
    "        dx, dy = dy, -dx\n",
    "    x += dx * int(turn[1:])\n",
    "    y += dy * int(turn[1:])\n",
    "    \n",
    "print(abs(x) + abs(y))"
   ]
  },
  {
   "cell_type": "markdown",
   "metadata": {},
   "source": [
    "### Part 2"
   ]
  },
  {
   "cell_type": "code",
   "execution_count": 2,
   "metadata": {},
   "outputs": [
    {
     "name": "stdout",
     "output_type": "stream",
     "text": [
      "152\n"
     ]
    }
   ],
   "source": [
    "with open('day01.txt') as f:\n",
    "    turns = [x.replace(' ','') for x in f.readline().strip().split(',')]\n",
    "\n",
    "dx, dy = 0, 1\n",
    "x, y = 0, 0\n",
    "locs = [(x, y)]\n",
    "crossed = False\n",
    "\n",
    "for turn in turns:\n",
    "    if turn[0] == 'L':\n",
    "        dx, dy = -dy, dx\n",
    "    else:\n",
    "        dx, dy = dy, -dx\n",
    "    for step in range(int(turn[1:])):\n",
    "        x += dx \n",
    "        y += dy\n",
    "        if (x, y) in locs:\n",
    "            crossed = True\n",
    "            break\n",
    "        locs.append((x, y))\n",
    "    if crossed:\n",
    "        break\n",
    "    \n",
    "print(abs(x) + abs(y))"
   ]
  },
  {
   "cell_type": "markdown",
   "metadata": {},
   "source": [
    "## Day 2\n",
    "Puzzle input: `day02.txt`\n",
    "### Part 1"
   ]
  },
  {
   "cell_type": "code",
   "execution_count": 3,
   "metadata": {},
   "outputs": [
    {
     "name": "stdout",
     "output_type": "stream",
     "text": [
      "74921\n"
     ]
    }
   ],
   "source": [
    "with open('day02.txt') as f:\n",
    "    turns = [x.strip() for x in f.readlines()]\n",
    "\n",
    "keypad = [\n",
    "    ['1','2','3'],    \n",
    "    ['4','5','6'],\n",
    "    ['7','8','9']\n",
    "]    \n",
    "    \n",
    "x, y = 1, 1\n",
    "keys = []\n",
    "\n",
    "for turn in turns:\n",
    "    for move in turn:\n",
    "        ox, oy = x, y\n",
    "        if move == 'U':\n",
    "            y -= 1\n",
    "        if move == 'D':\n",
    "            y += 1\n",
    "        if move == 'R':\n",
    "            x += 1\n",
    "        if move == 'L':\n",
    "            x -= 1\n",
    "        if x < 0 or x > 2 or y < 0 or y > 2:\n",
    "            x, y = ox, oy\n",
    "    keys.append(keypad[y][x])\n",
    "\n",
    "print(''.join(keys))"
   ]
  },
  {
   "cell_type": "markdown",
   "metadata": {},
   "source": [
    "### Part 2"
   ]
  },
  {
   "cell_type": "code",
   "execution_count": 4,
   "metadata": {},
   "outputs": [
    {
     "name": "stdout",
     "output_type": "stream",
     "text": [
      "A6B35\n"
     ]
    }
   ],
   "source": [
    "keypad = [\n",
    "    [' ',' ',' ',' ',' ',' ',' '],\n",
    "    [' ',' ',' ','1',' ',' ',' '],\n",
    "    [' ',' ','2','3','4',' ',' '],\n",
    "    [' ','5','6','7','8','9',' '],\n",
    "    [' ',' ','A','B','C',' ',' '],\n",
    "    [' ',' ',' ','D',' ',' ',' '],\n",
    "    [' ',' ',' ',' ',' ',' ',' ']    \n",
    "]    \n",
    "    \n",
    "x, y = 1, 3\n",
    "keys = []\n",
    "\n",
    "for turn in turns:\n",
    "    for move in turn:\n",
    "        ox, oy = x, y\n",
    "        if move == 'U':\n",
    "            y -= 1\n",
    "        if move == 'D':\n",
    "            y += 1\n",
    "        if move == 'R':\n",
    "            x += 1\n",
    "        if move == 'L':\n",
    "            x -= 1\n",
    "        if keypad[y][x] == ' ':\n",
    "            x, y = ox, oy\n",
    "    keys.append(keypad[y][x])\n",
    "\n",
    "print(''.join(keys))"
   ]
  },
  {
   "cell_type": "markdown",
   "metadata": {},
   "source": [
    "## Day 3\n",
    "Puzzle input: `day03.txt`\n",
    "### Part 1"
   ]
  },
  {
   "cell_type": "code",
   "execution_count": 5,
   "metadata": {},
   "outputs": [
    {
     "name": "stdout",
     "output_type": "stream",
     "text": [
      "1050\n"
     ]
    }
   ],
   "source": [
    "with open('day03.txt') as f:\n",
    "    lines = [l.strip().split(' ') for l in f.readlines()]\n",
    "\n",
    "possible = 0\n",
    "\n",
    "for line in lines:\n",
    "    sides = sorted([int(x) for x in line if len(x) > 0])\n",
    "    if sides[0] + sides[1] > sides[2]:\n",
    "        possible += 1\n",
    "        \n",
    "print(possible)"
   ]
  },
  {
   "cell_type": "markdown",
   "metadata": {},
   "source": [
    "### Part 2"
   ]
  },
  {
   "cell_type": "code",
   "execution_count": 6,
   "metadata": {},
   "outputs": [
    {
     "name": "stdout",
     "output_type": "stream",
     "text": [
      "1921\n"
     ]
    }
   ],
   "source": [
    "for i in range(len(lines)):\n",
    "    lines[i] = [int(x) for x in lines[i] if len(x) > 0]\n",
    "    \n",
    "newlines = []\n",
    "for col in range(3):\n",
    "    for i in range(0, len(lines), 3):\n",
    "        newlines.append([l[col] for l in lines[i:i+3]])\n",
    "        \n",
    "possible = 0\n",
    "\n",
    "for line in newlines:\n",
    "    sides = sorted(line)\n",
    "    if sides[0] + sides[1] > sides[2]:\n",
    "        possible += 1\n",
    "        \n",
    "print(possible)"
   ]
  },
  {
   "cell_type": "markdown",
   "metadata": {},
   "source": [
    "## Day 4\n",
    "Puzzle input: `day04.txt`\n",
    "### Part 1"
   ]
  },
  {
   "cell_type": "code",
   "execution_count": 7,
   "metadata": {},
   "outputs": [
    {
     "name": "stdout",
     "output_type": "stream",
     "text": [
      "278221\n"
     ]
    }
   ],
   "source": [
    "from numpy import unique\n",
    "\n",
    "with open('day04.txt') as f:\n",
    "    lines = [l.strip(']\\n').split('-') for l in f.readlines()]\n",
    "\n",
    "names = [l[:-1] for l in lines]\n",
    "temp = [l[-1].split('[') for l in lines]\n",
    "sectors = [int(t[0]) for t in temp]\n",
    "checks = [t[1] for t in temp]\n",
    "\n",
    "def checksum(name):\n",
    "    letters, counts = unique(list(''.join(name)), return_counts = True)\n",
    "    lettercounts = sorted(\n",
    "        list(zip(letters, counts)), \n",
    "        key = lambda x: -1000 * x[1] + ord(x[0])\n",
    "    )\n",
    "    return ''.join(x[0] for x in lettercounts[:5])\n",
    "\n",
    "S = 0\n",
    "for name, check, sector in zip(names, checks, sectors):\n",
    "    if checksum(name) == check:\n",
    "        S += sector\n",
    "        \n",
    "print(S)"
   ]
  },
  {
   "cell_type": "markdown",
   "metadata": {},
   "source": [
    "### Part 2"
   ]
  },
  {
   "cell_type": "code",
   "execution_count": 8,
   "metadata": {},
   "outputs": [
    {
     "name": "stdout",
     "output_type": "stream",
     "text": [
      "[('northpole object storage', 267)]\n"
     ]
    }
   ],
   "source": [
    "def decrypt(name, sector):\n",
    "    return ' '.join(\n",
    "        ''.join(\n",
    "            chr((ord(letter) - 97 + sector) % 26 + 97)\n",
    "            for letter in word\n",
    "        )\n",
    "        for word in name\n",
    "    )\n",
    "\n",
    "truenames = [\n",
    "    (decrypt(name, sector), sector)\n",
    "    for name, sector, check in zip(names, sectors, checks)\n",
    "    if checksum(name) == check\n",
    "]\n",
    "\n",
    "print([tn for tn in truenames if 'north' in tn[0]])"
   ]
  },
  {
   "cell_type": "markdown",
   "metadata": {},
   "source": [
    "## Day 5\n",
    "Puzzle input: `ffykfhsq`\n",
    "### Part 1"
   ]
  },
  {
   "cell_type": "code",
   "execution_count": 9,
   "metadata": {},
   "outputs": [
    {
     "name": "stdout",
     "output_type": "stream",
     "text": [
      "c6697b55"
     ]
    }
   ],
   "source": [
    "door = 'ffykfhsq'\n",
    "\n",
    "from hashlib import md5\n",
    "\n",
    "index = 0\n",
    "for c in range(8):\n",
    "    while True:\n",
    "        h = md5((door + str(index)).encode('utf-8')).hexdigest()\n",
    "        index += 1\n",
    "        if h[:5] == '00000':\n",
    "            break\n",
    "    print(h[5], end = '')"
   ]
  },
  {
   "cell_type": "markdown",
   "metadata": {},
   "source": [
    "### Part 2"
   ]
  },
  {
   "cell_type": "code",
   "execution_count": 10,
   "metadata": {},
   "outputs": [
    {
     "name": "stdout",
     "output_type": "stream",
     "text": [
      "8c35d1ab\n"
     ]
    }
   ],
   "source": [
    "from IPython.display import clear_output  # for animation :)\n",
    "    \n",
    "password = ['_'] * 8\n",
    "valid = [str(x) for x in range(8)]\n",
    "index = 0\n",
    "while '_' in password:\n",
    "    h = md5((door + str(index)).encode('utf-8')).hexdigest()\n",
    "    if h[:5] == '00000' and h[5] in valid and password[int(h[5])] == '_':\n",
    "        password[int(h[5])] = h[6]\n",
    "        clear_output(wait = True)\n",
    "        print(''.join(password))\n",
    "    index += 1"
   ]
  },
  {
   "cell_type": "markdown",
   "metadata": {},
   "source": [
    "## Day 6\n",
    "Puzzle input: `day06.txt`\n",
    "### Part 1"
   ]
  },
  {
   "cell_type": "code",
   "execution_count": 11,
   "metadata": {},
   "outputs": [
    {
     "name": "stdout",
     "output_type": "stream",
     "text": [
      "qoclwvah\n"
     ]
    }
   ],
   "source": [
    "with open('day06.txt') as f:\n",
    "    lines = [l.strip() for l in f.readlines()]\n",
    "\n",
    "def mostcommon(letters):\n",
    "    l, c = unique(letters, return_counts = True)\n",
    "    return sorted(list(zip(l, c)), key = lambda x: -x[1])[0][0]\n",
    "    \n",
    "print(\n",
    "    ''.join(\n",
    "        mostcommon([l[pos] for l in lines]) \n",
    "        for pos in range(8)\n",
    "    )\n",
    ")"
   ]
  },
  {
   "cell_type": "markdown",
   "metadata": {},
   "source": [
    "### Part 2"
   ]
  },
  {
   "cell_type": "code",
   "execution_count": 12,
   "metadata": {},
   "outputs": [
    {
     "name": "stdout",
     "output_type": "stream",
     "text": [
      "ryrgviuv\n"
     ]
    }
   ],
   "source": [
    "def leastcommon(letters):\n",
    "    l, c = unique(letters, return_counts = True)\n",
    "    return sorted(list(zip(l, c)), key = lambda x: x[1])[0][0]\n",
    "    \n",
    "print(\n",
    "    ''.join(\n",
    "        leastcommon([l[pos] for l in lines]) \n",
    "        for pos in range(8)\n",
    "    )\n",
    ")"
   ]
  }
 ],
 "metadata": {
  "kernelspec": {
   "display_name": "Python 3",
   "language": "python",
   "name": "python3"
  },
  "language_info": {
   "codemirror_mode": {
    "name": "ipython",
    "version": 3
   },
   "file_extension": ".py",
   "mimetype": "text/x-python",
   "name": "python",
   "nbconvert_exporter": "python",
   "pygments_lexer": "ipython3",
   "version": "3.6.3"
  }
 },
 "nbformat": 4,
 "nbformat_minor": 2
}
